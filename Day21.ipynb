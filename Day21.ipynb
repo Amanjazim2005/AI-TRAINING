{
 "cells": [
  {
   "cell_type": "code",
   "execution_count": null,
   "id": "16f12f2d",
   "metadata": {},
   "outputs": [],
   "source": [
    "#DAY 21#"
   ]
  },
  {
   "cell_type": "code",
   "execution_count": null,
   "id": "c03a6ae5",
   "metadata": {},
   "outputs": [
    {
     "name": "stdout",
     "output_type": "stream",
     "text": [
      "Dosa Ready\n",
      "Dosa Ready\n",
      "Dosa Ready\n",
      "Dosa Ready\n",
      "Dosa Ready\n",
      "Dosa Ready\n",
      "Dosa Ready\n",
      "Dosa Ready\n",
      "Dosa Ready\n",
      "1\n"
     ]
    }
   ],
   "source": [
    "#Recursion\n",
    "def dosai(dosa__maavu):\n",
    "    if dosa__maavu == 1 : # Base case= 3\n",
    "        return 1\n",
    "    elif dosa__maavu >1 :\n",
    "        print(\"Dosa Ready\") \n",
    "        return dosai(dosa__maavu-1)\n",
    "p=dosai(10)\n",
    "print(p)\n",
    "\n",
    "\n"
   ]
  },
  {
   "cell_type": "code",
   "execution_count": null,
   "id": "145795f5",
   "metadata": {},
   "outputs": [
    {
     "name": "stdout",
     "output_type": "stream",
     "text": [
      "24\n"
     ]
    }
   ],
   "source": [
    "#Factorial\n",
    "def fact(n):\n",
    "    if (n>1):\n",
    "        return n*fact(n-1)\n",
    "    return n\n",
    "print(fact(4))"
   ]
  },
  {
   "cell_type": "code",
   "execution_count": null,
   "id": "b942b660",
   "metadata": {},
   "outputs": [
    {
     "name": "stdout",
     "output_type": "stream",
     "text": [
      "5\n"
     ]
    }
   ],
   "source": [
    "#Fibonacci Series\n",
    "'''\n",
    "f(0)=0           f(n)=f((n-1)+(n-1))\n",
    "f(1)=1\n",
    "f(2)=1+0=2\n",
    "f(3)=1+1=2\n",
    "f(4)=2+1=3\n",
    "f(5)=3+2=8\n",
    "\n",
    "\n",
    "\n",
    "'''\n",
    "\n",
    "\n",
    "def fibonacci(n):\n",
    "    a=0\n",
    "    b=1\n",
    "    if(n==0):\n",
    "        return 1\n",
    "    elif (n==0):\n",
    "        return 0\n",
    "    for i in range (2,n+1):\n",
    "        temp =a+b\n",
    "        a=b\n",
    "        b=temp\n",
    "    return b\n",
    "print(fibonacci(5))\n",
    "\n",
    "\n",
    "\n",
    "\n"
   ]
  },
  {
   "cell_type": "code",
   "execution_count": 23,
   "id": "6c5be829",
   "metadata": {},
   "outputs": [
    {
     "name": "stdout",
     "output_type": "stream",
     "text": [
      "21\n"
     ]
    }
   ],
   "source": [
    "def fibonacci(n):\n",
    "    if(n==0):\n",
    "        return 0\n",
    "    elif (n==1):\n",
    "        return 1\n",
    "    return fibonacci(n-1)+fibonacci(n-2)\n",
    "print(fibonacci(8))"
   ]
  },
  {
   "cell_type": "code",
   "execution_count": 24,
   "id": "dcbd0f5c",
   "metadata": {},
   "outputs": [
    {
     "data": {
      "text/plain": [
       "10"
      ]
     },
     "execution_count": 24,
     "metadata": {},
     "output_type": "execute_result"
    }
   ],
   "source": [
    "#sum of digits\n",
    "def sum_of_digits(n):\n",
    "    sum=0\n",
    "    while(n>0):\n",
    "        sum +=n%10\n",
    "        n=n//10\n",
    "    return sum\n",
    "sum_of_digits(1234)"
   ]
  },
  {
   "cell_type": "code",
   "execution_count": 27,
   "id": "55b8136a",
   "metadata": {},
   "outputs": [
    {
     "data": {
      "text/plain": [
       "10"
      ]
     },
     "execution_count": 27,
     "metadata": {},
     "output_type": "execute_result"
    }
   ],
   "source": [
    "#sum of digits\n",
    "\n",
    "def sum_of_digits(n):\n",
    "    if(n==0):\n",
    "        return 0\n",
    "    return (n%10)+(sum_of_digits(n//10))\n",
    "sum_of_digits(1234)"
   ]
  },
  {
   "cell_type": "code",
   "execution_count": 28,
   "id": "31461fd0",
   "metadata": {},
   "outputs": [
    {
     "name": "stdout",
     "output_type": "stream",
     "text": [
      "5\n"
     ]
    }
   ],
   "source": [
    "#Imagine you have a stack of coins.\n",
    "#You want to count how many coins are there in the stack\n",
    "#but you can remove only one at a time and remove it to a back\n",
    "#write a recursive program\n",
    "\n",
    "list1 = [1, 1, 0, 1, 1]\n",
    "\n",
    "def count_coins(stack):\n",
    "\tif not stack:\n",
    "\t\treturn 0\n",
    "\treturn 1 + count_coins(stack[1:])\n",
    "\n",
    "print(count_coins(list1))"
   ]
  },
  {
   "cell_type": "code",
   "execution_count": 38,
   "id": "5ae50e9e",
   "metadata": {},
   "outputs": [
    {
     "name": "stdout",
     "output_type": "stream",
     "text": [
      "4\n"
     ]
    }
   ],
   "source": [
    "def coins(list1):\n",
    "    if not list1:\n",
    "        return 0\n",
    "    return 1+coins(list1[1:])\n",
    "list1=[1,1,1,1]\n",
    "print(coins(list1))"
   ]
  },
  {
   "cell_type": "code",
   "execution_count": null,
   "id": "27142374",
   "metadata": {},
   "outputs": [],
   "source": [
    "file = {\"file1.text\":10,\n",
    "        \"subfolder\":{\n",
    "            \"file2.txt\":30,\n",
    "            \"file3.txt\":40\n",
    "\n",
    "    },\n",
    "    \"file4.txt\":20\n",
    "}"
   ]
  },
  {
   "cell_type": "code",
   "execution_count": 5,
   "id": "955df9f6",
   "metadata": {},
   "outputs": [],
   "source": [
    "def folder_name(folder):\n",
    "    stack = [folder]\n",
    "    total = 0\n",
    "    while stack:\n",
    "        current = stack.pop()\n",
    "        for key , values in current.items():\n",
    "            if isinstance(values,dict):\n",
    "                stack.append(values)\n",
    "            total+=values\n",
    "        return total\n",
    "    \n"
   ]
  },
  {
   "cell_type": "code",
   "execution_count": 10,
   "id": "4c7137e1",
   "metadata": {},
   "outputs": [
    {
     "name": "stdout",
     "output_type": "stream",
     "text": [
      "100\n"
     ]
    }
   ],
   "source": [
    "def folder_name(folder):\n",
    "    total = 0\n",
    "    for key , values in folder.items():\n",
    "        if isinstance(values,dict):\n",
    "            total+=folder_name(values)\n",
    "        else:\n",
    "            total+=values\n",
    "    return total\n",
    "print(folder_name(file))\n",
    "    "
   ]
  },
  {
   "cell_type": "code",
   "execution_count": null,
   "id": "9daf0618",
   "metadata": {},
   "outputs": [],
   "source": [
    "#Backtracking\n",
    "#Choice , explore , backtrack , \n",
    "'''\n",
    "function backtracking(state):\n",
    "    if state is a solution:\n",
    "        return state (#Base case)\n",
    "    for choice is valid:\n",
    "        make choice\n",
    "        result = backtracking(state with choice)\n",
    "        if result is not failure:\n",
    "            return result\n",
    "        undo choice\n",
    "    return failure\n",
    "'''"
   ]
  },
  {
   "cell_type": "code",
   "execution_count": 24,
   "id": "2e2c6b79",
   "metadata": {},
   "outputs": [
    {
     "name": "stdout",
     "output_type": "stream",
     "text": [
      "[1, 2, 3]\n",
      "[1, 3, 2]\n",
      "[2, 1, 3]\n",
      "[2, 3, 1]\n",
      "[3, 1, 2]\n",
      "[3, 2, 1]\n"
     ]
    }
   ],
   "source": [
    "#Pin number\n",
    "def pin_number(path , digits , used , result):\n",
    "    if(len(path)==len(digits)):\n",
    "        result.append(path[:])\n",
    "        return #base case\n",
    "    for i in range(len(digits)):\n",
    "        if not used[i]:\n",
    "            used[i] = True\n",
    "            path.append(digits[i])\n",
    "            pin_number(path , digits , used , result)#Backtracking step\n",
    "            path.pop()\n",
    "            used[i] = False\n",
    "result=[]\n",
    "digits=[1,2,3]\n",
    "used=[False]*len(digits)\n",
    "pin_number([],digits,used,result)\n",
    "for i in result:\n",
    "    print(i)\n",
    "        "
   ]
  },
  {
   "cell_type": "code",
   "execution_count": null,
   "id": "312ef142",
   "metadata": {},
   "outputs": [],
   "source": []
  }
 ],
 "metadata": {
  "kernelspec": {
   "display_name": "Python 3",
   "language": "python",
   "name": "python3"
  },
  "language_info": {
   "codemirror_mode": {
    "name": "ipython",
    "version": 3
   },
   "file_extension": ".py",
   "mimetype": "text/x-python",
   "name": "python",
   "nbconvert_exporter": "python",
   "pygments_lexer": "ipython3",
   "version": "3.13.2"
  }
 },
 "nbformat": 4,
 "nbformat_minor": 5
}
